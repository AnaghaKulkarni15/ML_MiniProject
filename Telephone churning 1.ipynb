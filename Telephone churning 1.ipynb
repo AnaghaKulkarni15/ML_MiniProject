{
 "cells": [
  {
   "cell_type": "code",
   "execution_count": 1,
   "id": "5bdb28c1",
   "metadata": {},
   "outputs": [],
   "source": [
    "import numpy as np\n",
    "import matplotlib.pyplot as ply\n",
    "import seaborn as sns\n",
    "import pandas as pd"
   ]
  },
  {
   "cell_type": "code",
   "execution_count": 3,
   "id": "810bdee4",
   "metadata": {},
   "outputs": [],
   "source": [
    "df_train = pd.read_csv('My Workplace/Dataset/churn-bigml-80.csv')\n",
    "df_test = pd.read_csv('My Workplace/Dataset/churn-bigml-20.csv')"
   ]
  },
  {
   "cell_type": "code",
   "execution_count": 24,
   "id": "3da2ff7d",
   "metadata": {},
   "outputs": [
    {
     "data": {
      "text/html": [
       "<div>\n",
       "<style scoped>\n",
       "    .dataframe tbody tr th:only-of-type {\n",
       "        vertical-align: middle;\n",
       "    }\n",
       "\n",
       "    .dataframe tbody tr th {\n",
       "        vertical-align: top;\n",
       "    }\n",
       "\n",
       "    .dataframe thead th {\n",
       "        text-align: right;\n",
       "    }\n",
       "</style>\n",
       "<table border=\"1\" class=\"dataframe\">\n",
       "  <thead>\n",
       "    <tr style=\"text-align: right;\">\n",
       "      <th></th>\n",
       "      <th>Account length</th>\n",
       "      <th>Area code</th>\n",
       "      <th>International plan</th>\n",
       "      <th>Voice mail plan</th>\n",
       "      <th>Total day minutes</th>\n",
       "      <th>Total day calls</th>\n",
       "      <th>Total eve minutes</th>\n",
       "      <th>Total eve calls</th>\n",
       "      <th>Total night minutes</th>\n",
       "      <th>Total night calls</th>\n",
       "      <th>Total intl minutes</th>\n",
       "      <th>Total intl calls</th>\n",
       "      <th>Customer service calls</th>\n",
       "      <th>Churn</th>\n",
       "    </tr>\n",
       "  </thead>\n",
       "  <tbody>\n",
       "    <tr>\n",
       "      <th>0</th>\n",
       "      <td>128</td>\n",
       "      <td>415</td>\n",
       "      <td>0</td>\n",
       "      <td>1</td>\n",
       "      <td>265.1</td>\n",
       "      <td>110</td>\n",
       "      <td>197.4</td>\n",
       "      <td>99</td>\n",
       "      <td>244.7</td>\n",
       "      <td>91</td>\n",
       "      <td>10.0</td>\n",
       "      <td>3</td>\n",
       "      <td>1</td>\n",
       "      <td>0</td>\n",
       "    </tr>\n",
       "    <tr>\n",
       "      <th>1</th>\n",
       "      <td>107</td>\n",
       "      <td>415</td>\n",
       "      <td>0</td>\n",
       "      <td>1</td>\n",
       "      <td>161.6</td>\n",
       "      <td>123</td>\n",
       "      <td>195.5</td>\n",
       "      <td>103</td>\n",
       "      <td>254.4</td>\n",
       "      <td>103</td>\n",
       "      <td>13.7</td>\n",
       "      <td>3</td>\n",
       "      <td>1</td>\n",
       "      <td>0</td>\n",
       "    </tr>\n",
       "    <tr>\n",
       "      <th>2</th>\n",
       "      <td>137</td>\n",
       "      <td>415</td>\n",
       "      <td>0</td>\n",
       "      <td>0</td>\n",
       "      <td>243.4</td>\n",
       "      <td>114</td>\n",
       "      <td>121.2</td>\n",
       "      <td>110</td>\n",
       "      <td>162.6</td>\n",
       "      <td>104</td>\n",
       "      <td>12.2</td>\n",
       "      <td>5</td>\n",
       "      <td>0</td>\n",
       "      <td>0</td>\n",
       "    </tr>\n",
       "    <tr>\n",
       "      <th>3</th>\n",
       "      <td>84</td>\n",
       "      <td>408</td>\n",
       "      <td>1</td>\n",
       "      <td>0</td>\n",
       "      <td>299.4</td>\n",
       "      <td>71</td>\n",
       "      <td>61.9</td>\n",
       "      <td>88</td>\n",
       "      <td>196.9</td>\n",
       "      <td>89</td>\n",
       "      <td>6.6</td>\n",
       "      <td>7</td>\n",
       "      <td>2</td>\n",
       "      <td>0</td>\n",
       "    </tr>\n",
       "    <tr>\n",
       "      <th>4</th>\n",
       "      <td>75</td>\n",
       "      <td>415</td>\n",
       "      <td>1</td>\n",
       "      <td>0</td>\n",
       "      <td>166.7</td>\n",
       "      <td>113</td>\n",
       "      <td>148.3</td>\n",
       "      <td>122</td>\n",
       "      <td>186.9</td>\n",
       "      <td>121</td>\n",
       "      <td>10.1</td>\n",
       "      <td>3</td>\n",
       "      <td>3</td>\n",
       "      <td>0</td>\n",
       "    </tr>\n",
       "    <tr>\n",
       "      <th>...</th>\n",
       "      <td>...</td>\n",
       "      <td>...</td>\n",
       "      <td>...</td>\n",
       "      <td>...</td>\n",
       "      <td>...</td>\n",
       "      <td>...</td>\n",
       "      <td>...</td>\n",
       "      <td>...</td>\n",
       "      <td>...</td>\n",
       "      <td>...</td>\n",
       "      <td>...</td>\n",
       "      <td>...</td>\n",
       "      <td>...</td>\n",
       "      <td>...</td>\n",
       "    </tr>\n",
       "    <tr>\n",
       "      <th>2661</th>\n",
       "      <td>79</td>\n",
       "      <td>415</td>\n",
       "      <td>0</td>\n",
       "      <td>0</td>\n",
       "      <td>134.7</td>\n",
       "      <td>98</td>\n",
       "      <td>189.7</td>\n",
       "      <td>68</td>\n",
       "      <td>221.4</td>\n",
       "      <td>128</td>\n",
       "      <td>11.8</td>\n",
       "      <td>5</td>\n",
       "      <td>2</td>\n",
       "      <td>0</td>\n",
       "    </tr>\n",
       "    <tr>\n",
       "      <th>2662</th>\n",
       "      <td>192</td>\n",
       "      <td>415</td>\n",
       "      <td>0</td>\n",
       "      <td>1</td>\n",
       "      <td>156.2</td>\n",
       "      <td>77</td>\n",
       "      <td>215.5</td>\n",
       "      <td>126</td>\n",
       "      <td>279.1</td>\n",
       "      <td>83</td>\n",
       "      <td>9.9</td>\n",
       "      <td>6</td>\n",
       "      <td>2</td>\n",
       "      <td>0</td>\n",
       "    </tr>\n",
       "    <tr>\n",
       "      <th>2663</th>\n",
       "      <td>68</td>\n",
       "      <td>415</td>\n",
       "      <td>0</td>\n",
       "      <td>0</td>\n",
       "      <td>231.1</td>\n",
       "      <td>57</td>\n",
       "      <td>153.4</td>\n",
       "      <td>55</td>\n",
       "      <td>191.3</td>\n",
       "      <td>123</td>\n",
       "      <td>9.6</td>\n",
       "      <td>4</td>\n",
       "      <td>3</td>\n",
       "      <td>0</td>\n",
       "    </tr>\n",
       "    <tr>\n",
       "      <th>2664</th>\n",
       "      <td>28</td>\n",
       "      <td>510</td>\n",
       "      <td>0</td>\n",
       "      <td>0</td>\n",
       "      <td>180.8</td>\n",
       "      <td>109</td>\n",
       "      <td>288.8</td>\n",
       "      <td>58</td>\n",
       "      <td>191.9</td>\n",
       "      <td>91</td>\n",
       "      <td>14.1</td>\n",
       "      <td>6</td>\n",
       "      <td>2</td>\n",
       "      <td>0</td>\n",
       "    </tr>\n",
       "    <tr>\n",
       "      <th>2665</th>\n",
       "      <td>74</td>\n",
       "      <td>415</td>\n",
       "      <td>0</td>\n",
       "      <td>1</td>\n",
       "      <td>234.4</td>\n",
       "      <td>113</td>\n",
       "      <td>265.9</td>\n",
       "      <td>82</td>\n",
       "      <td>241.4</td>\n",
       "      <td>77</td>\n",
       "      <td>13.7</td>\n",
       "      <td>4</td>\n",
       "      <td>0</td>\n",
       "      <td>0</td>\n",
       "    </tr>\n",
       "  </tbody>\n",
       "</table>\n",
       "<p>2666 rows × 14 columns</p>\n",
       "</div>"
      ],
      "text/plain": [
       "      Account length  Area code  International plan  Voice mail plan  \\\n",
       "0                128        415                   0                1   \n",
       "1                107        415                   0                1   \n",
       "2                137        415                   0                0   \n",
       "3                 84        408                   1                0   \n",
       "4                 75        415                   1                0   \n",
       "...              ...        ...                 ...              ...   \n",
       "2661              79        415                   0                0   \n",
       "2662             192        415                   0                1   \n",
       "2663              68        415                   0                0   \n",
       "2664              28        510                   0                0   \n",
       "2665              74        415                   0                1   \n",
       "\n",
       "      Total day minutes  Total day calls  Total eve minutes  Total eve calls  \\\n",
       "0                 265.1              110              197.4               99   \n",
       "1                 161.6              123              195.5              103   \n",
       "2                 243.4              114              121.2              110   \n",
       "3                 299.4               71               61.9               88   \n",
       "4                 166.7              113              148.3              122   \n",
       "...                 ...              ...                ...              ...   \n",
       "2661              134.7               98              189.7               68   \n",
       "2662              156.2               77              215.5              126   \n",
       "2663              231.1               57              153.4               55   \n",
       "2664              180.8              109              288.8               58   \n",
       "2665              234.4              113              265.9               82   \n",
       "\n",
       "      Total night minutes  Total night calls  Total intl minutes  \\\n",
       "0                   244.7                 91                10.0   \n",
       "1                   254.4                103                13.7   \n",
       "2                   162.6                104                12.2   \n",
       "3                   196.9                 89                 6.6   \n",
       "4                   186.9                121                10.1   \n",
       "...                   ...                ...                 ...   \n",
       "2661                221.4                128                11.8   \n",
       "2662                279.1                 83                 9.9   \n",
       "2663                191.3                123                 9.6   \n",
       "2664                191.9                 91                14.1   \n",
       "2665                241.4                 77                13.7   \n",
       "\n",
       "      Total intl calls  Customer service calls  Churn  \n",
       "0                    3                       1      0  \n",
       "1                    3                       1      0  \n",
       "2                    5                       0      0  \n",
       "3                    7                       2      0  \n",
       "4                    3                       3      0  \n",
       "...                ...                     ...    ...  \n",
       "2661                 5                       2      0  \n",
       "2662                 6                       2      0  \n",
       "2663                 4                       3      0  \n",
       "2664                 6                       2      0  \n",
       "2665                 4                       0      0  \n",
       "\n",
       "[2666 rows x 14 columns]"
      ]
     },
     "execution_count": 24,
     "metadata": {},
     "output_type": "execute_result"
    }
   ],
   "source": [
    "df_train"
   ]
  },
  {
   "cell_type": "code",
   "execution_count": 25,
   "id": "e5c979a4",
   "metadata": {},
   "outputs": [
    {
     "name": "stdout",
     "output_type": "stream",
     "text": [
      "<class 'pandas.core.frame.DataFrame'>\n",
      "RangeIndex: 2666 entries, 0 to 2665\n",
      "Data columns (total 14 columns):\n",
      " #   Column                  Non-Null Count  Dtype  \n",
      "---  ------                  --------------  -----  \n",
      " 0   Account length          2666 non-null   int64  \n",
      " 1   Area code               2666 non-null   int64  \n",
      " 2   International plan      2666 non-null   int32  \n",
      " 3   Voice mail plan         2666 non-null   int32  \n",
      " 4   Total day minutes       2666 non-null   float64\n",
      " 5   Total day calls         2666 non-null   int64  \n",
      " 6   Total eve minutes       2666 non-null   float64\n",
      " 7   Total eve calls         2666 non-null   int64  \n",
      " 8   Total night minutes     2666 non-null   float64\n",
      " 9   Total night calls       2666 non-null   int64  \n",
      " 10  Total intl minutes      2666 non-null   float64\n",
      " 11  Total intl calls        2666 non-null   int64  \n",
      " 12  Customer service calls  2666 non-null   int64  \n",
      " 13  Churn                   2666 non-null   int64  \n",
      "dtypes: float64(4), int32(2), int64(8)\n",
      "memory usage: 270.9 KB\n"
     ]
    }
   ],
   "source": [
    "df_train.info()"
   ]
  },
  {
   "cell_type": "code",
   "execution_count": 16,
   "id": "863b0580",
   "metadata": {},
   "outputs": [
    {
     "data": {
      "text/plain": [
       "0    2278\n",
       "1     388\n",
       "Name: Churn, dtype: int64"
      ]
     },
     "execution_count": 16,
     "metadata": {},
     "output_type": "execute_result"
    }
   ],
   "source": [
    "df_train.Churn.value_counts()"
   ]
  },
  {
   "cell_type": "markdown",
   "id": "8810f393",
   "metadata": {},
   "source": [
    "# Target column is unbalanced"
   ]
  },
  {
   "cell_type": "code",
   "execution_count": 6,
   "id": "51ad3dd1",
   "metadata": {},
   "outputs": [],
   "source": [
    "from sklearn.preprocessing import LabelEncoder\n",
    "LE = LabelEncoder()"
   ]
  },
  {
   "cell_type": "markdown",
   "id": "f627c15f",
   "metadata": {},
   "source": [
    "# Column Churn, International Plan, Voice Plan Encoding"
   ]
  },
  {
   "cell_type": "code",
   "execution_count": 10,
   "id": "d020cee2",
   "metadata": {},
   "outputs": [],
   "source": [
    "df_train['Churn']=LE.fit_transform(df_train['Churn'])\n",
    "df_train['International plan']=LE.fit_transform(df_train['International plan'])\n",
    "df_train['Voice mail plan']=LE.fit_transform(df_train['Voice mail plan'])"
   ]
  },
  {
   "cell_type": "code",
   "execution_count": 17,
   "id": "008778f3",
   "metadata": {},
   "outputs": [],
   "source": [
    "df_train.drop(columns = ['State'],inplace = True)"
   ]
  },
  {
   "cell_type": "code",
   "execution_count": 26,
   "id": "d9752674",
   "metadata": {},
   "outputs": [
    {
     "data": {
      "text/plain": [
       "<AxesSubplot:>"
      ]
     },
     "execution_count": 26,
     "metadata": {},
     "output_type": "execute_result"
    },
    {
     "data": {
      "image/png": "[encoded data removed]",
      "text/plain": [
       "<Figure size 432x288 with 2 Axes>"
      ]
     },
     "metadata": {
      "needs_background": "light"
     },
     "output_type": "display_data"
    }
   ],
   "source": [
    "sns.heatmap(df_train.corr())"
   ]
  },
  {
   "cell_type": "code",
   "execution_count": 23,
   "id": "86addb6a",
   "metadata": {},
   "outputs": [],
   "source": [
    "df_train.drop(columns = ['Total day charge','Total eve charge','Total night charge','Total intl charge','Number vmail messages'],inplace = True)"
   ]
  },
  {
   "cell_type": "code",
   "execution_count": 28,
   "id": "0905dc19",
   "metadata": {},
   "outputs": [],
   "source": [
    "from sklearn.utils import resample\n",
    "zero = df_train[df_train['Churn']==0]\n",
    "one = df_train[df_train['Churn']==1]"
   ]
  },
  {
   "cell_type": "code",
   "execution_count": 30,
   "id": "0dbefaef",
   "metadata": {},
   "outputs": [],
   "source": [
    "upsample = resample(one,\n",
    "                   n_samples = len(zero))"
   ]
  },
  {
   "cell_type": "code",
   "execution_count": 31,
   "id": "f2209a21",
   "metadata": {},
   "outputs": [],
   "source": [
    "df_final = pd.concat([upsample,zero])"
   ]
  },
  {
   "cell_type": "code",
   "execution_count": 33,
   "id": "47626280",
   "metadata": {},
   "outputs": [
    {
     "data": {
      "text/plain": [
       "0    2278\n",
       "1    2278\n",
       "Name: Churn, dtype: int64"
      ]
     },
     "execution_count": 33,
     "metadata": {},
     "output_type": "execute_result"
    }
   ],
   "source": [
    "df_final.Churn.value_counts()"
   ]
  },
  {
   "cell_type": "code",
   "execution_count": 37,
   "id": "4a47a8ad",
   "metadata": {},
   "outputs": [],
   "source": [
    "X_train=df_final.drop(columns=['Churn'])\n",
    "Y_train=df_final.Churn"
   ]
  },
  {
   "cell_type": "code",
   "execution_count": 38,
   "id": "aa845ae2",
   "metadata": {},
   "outputs": [],
   "source": [
    "from sklearn.svm import SVC\n",
    "SVCM=SVC()\n",
    "model = SVCM.fit(X_train,Y_train)"
   ]
  },
  {
   "cell_type": "code",
   "execution_count": 42,
   "id": "26214127",
   "metadata": {},
   "outputs": [
    {
     "data": {
      "text/html": [
       "<div>\n",
       "<style scoped>\n",
       "    .dataframe tbody tr th:only-of-type {\n",
       "        vertical-align: middle;\n",
       "    }\n",
       "\n",
       "    .dataframe tbody tr th {\n",
       "        vertical-align: top;\n",
       "    }\n",
       "\n",
       "    .dataframe thead th {\n",
       "        text-align: right;\n",
       "    }\n",
       "</style>\n",
       "<table border=\"1\" class=\"dataframe\">\n",
       "  <thead>\n",
       "    <tr style=\"text-align: right;\">\n",
       "      <th></th>\n",
       "      <th>Account length</th>\n",
       "      <th>Area code</th>\n",
       "      <th>International plan</th>\n",
       "      <th>Voice mail plan</th>\n",
       "      <th>Total day minutes</th>\n",
       "      <th>Total day calls</th>\n",
       "      <th>Total eve minutes</th>\n",
       "      <th>Total eve calls</th>\n",
       "      <th>Total night minutes</th>\n",
       "      <th>Total night calls</th>\n",
       "      <th>Total intl minutes</th>\n",
       "      <th>Total intl calls</th>\n",
       "      <th>Customer service calls</th>\n",
       "      <th>Churn</th>\n",
       "    </tr>\n",
       "  </thead>\n",
       "  <tbody>\n",
       "    <tr>\n",
       "      <th>0</th>\n",
       "      <td>117</td>\n",
       "      <td>408</td>\n",
       "      <td>0</td>\n",
       "      <td>0</td>\n",
       "      <td>184.5</td>\n",
       "      <td>97</td>\n",
       "      <td>351.6</td>\n",
       "      <td>80</td>\n",
       "      <td>215.8</td>\n",
       "      <td>90</td>\n",
       "      <td>8.7</td>\n",
       "      <td>4</td>\n",
       "      <td>1</td>\n",
       "      <td>0</td>\n",
       "    </tr>\n",
       "    <tr>\n",
       "      <th>1</th>\n",
       "      <td>65</td>\n",
       "      <td>415</td>\n",
       "      <td>0</td>\n",
       "      <td>0</td>\n",
       "      <td>129.1</td>\n",
       "      <td>137</td>\n",
       "      <td>228.5</td>\n",
       "      <td>83</td>\n",
       "      <td>208.8</td>\n",
       "      <td>111</td>\n",
       "      <td>12.7</td>\n",
       "      <td>6</td>\n",
       "      <td>4</td>\n",
       "      <td>1</td>\n",
       "    </tr>\n",
       "    <tr>\n",
       "      <th>2</th>\n",
       "      <td>161</td>\n",
       "      <td>415</td>\n",
       "      <td>0</td>\n",
       "      <td>0</td>\n",
       "      <td>332.9</td>\n",
       "      <td>67</td>\n",
       "      <td>317.8</td>\n",
       "      <td>97</td>\n",
       "      <td>160.6</td>\n",
       "      <td>128</td>\n",
       "      <td>5.4</td>\n",
       "      <td>9</td>\n",
       "      <td>4</td>\n",
       "      <td>1</td>\n",
       "    </tr>\n",
       "    <tr>\n",
       "      <th>3</th>\n",
       "      <td>111</td>\n",
       "      <td>415</td>\n",
       "      <td>0</td>\n",
       "      <td>0</td>\n",
       "      <td>110.4</td>\n",
       "      <td>103</td>\n",
       "      <td>137.3</td>\n",
       "      <td>102</td>\n",
       "      <td>189.6</td>\n",
       "      <td>105</td>\n",
       "      <td>7.7</td>\n",
       "      <td>6</td>\n",
       "      <td>2</td>\n",
       "      <td>0</td>\n",
       "    </tr>\n",
       "    <tr>\n",
       "      <th>4</th>\n",
       "      <td>49</td>\n",
       "      <td>510</td>\n",
       "      <td>0</td>\n",
       "      <td>0</td>\n",
       "      <td>119.3</td>\n",
       "      <td>117</td>\n",
       "      <td>215.1</td>\n",
       "      <td>109</td>\n",
       "      <td>178.7</td>\n",
       "      <td>90</td>\n",
       "      <td>11.1</td>\n",
       "      <td>1</td>\n",
       "      <td>1</td>\n",
       "      <td>0</td>\n",
       "    </tr>\n",
       "    <tr>\n",
       "      <th>...</th>\n",
       "      <td>...</td>\n",
       "      <td>...</td>\n",
       "      <td>...</td>\n",
       "      <td>...</td>\n",
       "      <td>...</td>\n",
       "      <td>...</td>\n",
       "      <td>...</td>\n",
       "      <td>...</td>\n",
       "      <td>...</td>\n",
       "      <td>...</td>\n",
       "      <td>...</td>\n",
       "      <td>...</td>\n",
       "      <td>...</td>\n",
       "      <td>...</td>\n",
       "    </tr>\n",
       "    <tr>\n",
       "      <th>662</th>\n",
       "      <td>114</td>\n",
       "      <td>415</td>\n",
       "      <td>0</td>\n",
       "      <td>1</td>\n",
       "      <td>137.1</td>\n",
       "      <td>88</td>\n",
       "      <td>155.7</td>\n",
       "      <td>125</td>\n",
       "      <td>247.6</td>\n",
       "      <td>94</td>\n",
       "      <td>11.5</td>\n",
       "      <td>7</td>\n",
       "      <td>2</td>\n",
       "      <td>0</td>\n",
       "    </tr>\n",
       "    <tr>\n",
       "      <th>663</th>\n",
       "      <td>106</td>\n",
       "      <td>408</td>\n",
       "      <td>0</td>\n",
       "      <td>1</td>\n",
       "      <td>83.6</td>\n",
       "      <td>131</td>\n",
       "      <td>203.9</td>\n",
       "      <td>131</td>\n",
       "      <td>229.5</td>\n",
       "      <td>73</td>\n",
       "      <td>8.1</td>\n",
       "      <td>3</td>\n",
       "      <td>1</td>\n",
       "      <td>0</td>\n",
       "    </tr>\n",
       "    <tr>\n",
       "      <th>664</th>\n",
       "      <td>60</td>\n",
       "      <td>415</td>\n",
       "      <td>0</td>\n",
       "      <td>0</td>\n",
       "      <td>193.9</td>\n",
       "      <td>118</td>\n",
       "      <td>85.0</td>\n",
       "      <td>110</td>\n",
       "      <td>210.1</td>\n",
       "      <td>134</td>\n",
       "      <td>13.2</td>\n",
       "      <td>8</td>\n",
       "      <td>3</td>\n",
       "      <td>0</td>\n",
       "    </tr>\n",
       "    <tr>\n",
       "      <th>665</th>\n",
       "      <td>159</td>\n",
       "      <td>415</td>\n",
       "      <td>0</td>\n",
       "      <td>0</td>\n",
       "      <td>169.8</td>\n",
       "      <td>114</td>\n",
       "      <td>197.7</td>\n",
       "      <td>105</td>\n",
       "      <td>193.7</td>\n",
       "      <td>82</td>\n",
       "      <td>11.6</td>\n",
       "      <td>4</td>\n",
       "      <td>1</td>\n",
       "      <td>0</td>\n",
       "    </tr>\n",
       "    <tr>\n",
       "      <th>666</th>\n",
       "      <td>184</td>\n",
       "      <td>510</td>\n",
       "      <td>1</td>\n",
       "      <td>0</td>\n",
       "      <td>213.8</td>\n",
       "      <td>105</td>\n",
       "      <td>159.6</td>\n",
       "      <td>84</td>\n",
       "      <td>139.2</td>\n",
       "      <td>137</td>\n",
       "      <td>5.0</td>\n",
       "      <td>10</td>\n",
       "      <td>2</td>\n",
       "      <td>0</td>\n",
       "    </tr>\n",
       "  </tbody>\n",
       "</table>\n",
       "<p>667 rows × 14 columns</p>\n",
       "</div>"
      ],
      "text/plain": [
       "     Account length  Area code  International plan  Voice mail plan  \\\n",
       "0               117        408                   0                0   \n",
       "1                65        415                   0                0   \n",
       "2               161        415                   0                0   \n",
       "3               111        415                   0                0   \n",
       "4                49        510                   0                0   \n",
       "..              ...        ...                 ...              ...   \n",
       "662             114        415                   0                1   \n",
       "663             106        408                   0                1   \n",
       "664              60        415                   0                0   \n",
       "665             159        415                   0                0   \n",
       "666             184        510                   1                0   \n",
       "\n",
       "     Total day minutes  Total day calls  Total eve minutes  Total eve calls  \\\n",
       "0                184.5               97              351.6               80   \n",
       "1                129.1              137              228.5               83   \n",
       "2                332.9               67              317.8               97   \n",
       "3                110.4              103              137.3              102   \n",
       "4                119.3              117              215.1              109   \n",
       "..                 ...              ...                ...              ...   \n",
       "662              137.1               88              155.7              125   \n",
       "663               83.6              131              203.9              131   \n",
       "664              193.9              118               85.0              110   \n",
       "665              169.8              114              197.7              105   \n",
       "666              213.8              105              159.6               84   \n",
       "\n",
       "     Total night minutes  Total night calls  Total intl minutes  \\\n",
       "0                  215.8                 90                 8.7   \n",
       "1                  208.8                111                12.7   \n",
       "2                  160.6                128                 5.4   \n",
       "3                  189.6                105                 7.7   \n",
       "4                  178.7                 90                11.1   \n",
       "..                   ...                ...                 ...   \n",
       "662                247.6                 94                11.5   \n",
       "663                229.5                 73                 8.1   \n",
       "664                210.1                134                13.2   \n",
       "665                193.7                 82                11.6   \n",
       "666                139.2                137                 5.0   \n",
       "\n",
       "     Total intl calls  Customer service calls  Churn  \n",
       "0                   4                       1      0  \n",
       "1                   6                       4      1  \n",
       "2                   9                       4      1  \n",
       "3                   6                       2      0  \n",
       "4                   1                       1      0  \n",
       "..                ...                     ...    ...  \n",
       "662                 7                       2      0  \n",
       "663                 3                       1      0  \n",
       "664                 8                       3      0  \n",
       "665                 4                       1      0  \n",
       "666                10                       2      0  \n",
       "\n",
       "[667 rows x 14 columns]"
      ]
     },
     "execution_count": 42,
     "metadata": {},
     "output_type": "execute_result"
    }
   ],
   "source": [
    "df_test"
   ]
  },
  {
   "cell_type": "code",
   "execution_count": 40,
   "id": "276a8b89",
   "metadata": {},
   "outputs": [],
   "source": [
    "df_test['Churn']=LE.fit_transform(df_test['Churn'])\n",
    "df_test['International plan']=LE.fit_transform(df_test['International plan'])\n",
    "df_test['Voice mail plan']=LE.fit_transform(df_test['Voice mail plan'])"
   ]
  },
  {
   "cell_type": "code",
   "execution_count": 41,
   "id": "6f637b57",
   "metadata": {},
   "outputs": [],
   "source": [
    "df_test.drop(columns = ['Total day charge','Total eve charge','Total night charge','Total intl charge','Number vmail messages','State'],inplace = True)"
   ]
  },
  {
   "cell_type": "code",
   "execution_count": 43,
   "id": "be507355",
   "metadata": {},
   "outputs": [],
   "source": [
    "X_test=df_test.drop(columns=['Churn'])\n",
    "Y_test=df_test.Churn"
   ]
  },
  {
   "cell_type": "code",
   "execution_count": 44,
   "id": "47d6524f",
   "metadata": {},
   "outputs": [],
   "source": [
    "y_pred=model.predict(X_test)"
   ]
  },
  {
   "cell_type": "code",
   "execution_count": 46,
   "id": "a341be60",
   "metadata": {},
   "outputs": [
    {
     "data": {
      "text/plain": [
       "0.8440779610194903"
      ]
     },
     "execution_count": 46,
     "metadata": {},
     "output_type": "execute_result"
    }
   ],
   "source": [
    "from sklearn.metrics import accuracy_score,confusion_matrix\n",
    "accuracy_score(Y_test, y_pred)"
   ]
  },
  {
   "cell_type": "code",
   "execution_count": 47,
   "id": "25f5ae3a",
   "metadata": {},
   "outputs": [
    {
     "data": {
      "text/plain": [
       "<AxesSubplot:>"
      ]
     },
     "execution_count": 47,
     "metadata": {},
     "output_type": "execute_result"
    },
    {
     "data": {
      "image/png": "[encoded data removed]",
      "text/plain": [
       "<Figure size 432x288 with 2 Axes>"
      ]
     },
     "metadata": {
      "needs_background": "light"
     },
     "output_type": "display_data"
    }
   ],
   "source": [
    "cf_matrix = confusion_matrix(Y_test, y_pred)\n",
    "sns.heatmap(cf_matrix, annot=True)"
   ]
  },
  {
   "cell_type": "code",
   "execution_count": 48,
   "id": "b30b5b2d",
   "metadata": {},
   "outputs": [
    {
     "data": {
      "text/plain": [
       "<AxesSubplot:>"
      ]
     },
     "execution_count": 48,
     "metadata": {},
     "output_type": "execute_result"
    },
    {
     "data": {
      "image/png": "[encoded data removed]",
      "text/plain": [
       "<Figure size 432x288 with 2 Axes>"
      ]
     },
     "metadata": {
      "needs_background": "light"
     },
     "output_type": "display_data"
    }
   ],
   "source": [
    "sns.heatmap(cf_matrix/np.sum(cf_matrix), annot=True, \n",
    "            fmt='.2%', cmap='Blues')"
   ]
  },
  {
   "cell_type": "code",
   "execution_count": 49,
   "id": "120c53b7",
   "metadata": {},
   "outputs": [],
   "source": [
    "import pickle\n",
    "pickle.dump(model, open('model1.sav', 'wb'))"
   ]
  },
  {
   "cell_type": "code",
   "execution_count": null,
   "id": "059967c9",
   "metadata": {},
   "outputs": [],
   "source": []
  }
 ],
 "metadata": {
  "kernelspec": {
   "display_name": "Python 3",
   "language": "python",
   "name": "python3"
  },
  "language_info": {
   "codemirror_mode": {
    "name": "ipython",
    "version": 3
   },
   "file_extension": ".py",
   "mimetype": "text/x-python",
   "name": "python",
   "nbconvert_exporter": "python",
   "pygments_lexer": "ipython3",
   "version": "3.8.8"
  }
 },
 "nbformat": 4,
 "nbformat_minor": 5
}
